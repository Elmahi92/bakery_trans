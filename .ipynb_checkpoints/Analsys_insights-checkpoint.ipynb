{
 "cells": [
  {
   "cell_type": "markdown",
   "metadata": {
    "pycharm": {
     "name": "#%% md\n"
    }
   },
   "source": [
    "Transactions from a bakery\n"
   ]
  },
  {
   "cell_type": "code",
   "execution_count": 34,
   "metadata": {
    "pycharm": {
     "name": "#%%\n"
    }
   },
   "outputs": [
    {
     "name": "stdout",
     "output_type": "stream",
     "text": [
      "             Date      Time  Transaction           Item\n",
      "0      2016-10-30  09:58:11            1          Bread\n",
      "1      2016-10-30  10:05:34            2   Scandinavian\n",
      "2      2016-10-30  10:05:34            2   Scandinavian\n",
      "3      2016-10-30  10:07:57            3  Hot chocolate\n",
      "4      2016-10-30  10:07:57            3            Jam\n",
      "...           ...       ...          ...            ...\n",
      "21288  2017-04-09  14:32:58         9682         Coffee\n",
      "21289  2017-04-09  14:32:58         9682            Tea\n",
      "21290  2017-04-09  14:57:06         9683         Coffee\n",
      "21291  2017-04-09  14:57:06         9683         Pastry\n",
      "21292  2017-04-09  15:04:24         9684      Smoothies\n",
      "\n",
      "[21293 rows x 4 columns]\n",
      "        Transaction\n",
      "count  21293.000000\n",
      "mean    4951.990889\n",
      "std     2787.758400\n",
      "min        1.000000\n",
      "25%     2548.000000\n",
      "50%     5067.000000\n",
      "75%     7329.000000\n",
      "max     9684.000000\n",
      "Index(['Date', 'Time', 'Transaction', 'Item'], dtype='object')\n"
     ]
    }
   ],
   "source": [
    "import pandas as pd\n",
    "import numpy as np\n",
    "\n",
    "data = pd.read_csv('C:/Users/MOALI72/Downloads/BreadBasket_DMS.csv')\n",
    "\n",
    "print(data)\n",
    "print(data.describe())\n",
    "res=data.isnull()\n",
    "print(res.columns)"
   ]
  },
  {
   "cell_type": "markdown",
   "metadata": {
    "pycharm": {
     "name": "#%% md\n"
    }
   },
   "source": []
  },
  {
   "cell_type": "code",
   "execution_count": null,
   "metadata": {
    "pycharm": {
     "name": "#%%\n"
    }
   },
   "outputs": [],
   "source": []
  }
 ],
 "metadata": {
  "kernelspec": {
   "display_name": "Python 3 (ipykernel)",
   "language": "python",
   "name": "python3"
  },
  "language_info": {
   "codemirror_mode": {
    "name": "ipython",
    "version": 3
   },
   "file_extension": ".py",
   "mimetype": "text/x-python",
   "name": "python",
   "nbconvert_exporter": "python",
   "pygments_lexer": "ipython3",
   "version": "3.9.12"
  }
 },
 "nbformat": 4,
 "nbformat_minor": 1
}
